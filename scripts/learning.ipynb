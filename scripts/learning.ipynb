{
 "cells": [
  {
   "cell_type": "code",
   "execution_count": null,
   "metadata": {},
   "outputs": [],
   "source": [
    "import pandas as pd, numpy as np\n",
    "import matplotlib.pyplot as plt\n",
    "import seaborn as sns\n",
    "from matplotlib.ticker import FormatStrFormatter\n",
    "from solve_network import palette"
   ]
  },
  {
   "cell_type": "code",
   "execution_count": null,
   "metadata": {},
   "outputs": [],
   "source": [
    "if __name__ == \"__main__\":\n",
    "    # Detect running outside of snakemake and mock snakemake for testing\n",
    "    if \"snakemake\" not in globals():\n",
    "        from _helpers import mock_snakemake\n",
    "\n",
    "        snakemake = mock_snakemake(\n",
    "            \"plot_summary\", year=\"2030\", zone=\"IE\", palette=\"p3\", policy=\"cfe100\"\n",
    "        )\n",
    "\n",
    "    config = snakemake.config\n",
    "    scaling = int(config[\"time_sampling\"][0])  # temporal scaling -- 3/1 for 3H/1H\n",
    "\n",
    "    # Wildcards & Settings\n",
    "    policy = snakemake.wildcards.policy[:3]\n",
    "    penetration = float(snakemake.wildcards.policy[3:]) / 100 if policy != \"ref\" else 0\n",
    "    tech_palette = snakemake.wildcards.palette\n",
    "    zone = snakemake.wildcards.zone\n",
    "    year = snakemake.wildcards.year\n",
    "\n",
    "    datacenters = snakemake.config[\"ci\"][\"datacenters\"]\n",
    "    locations = list(datacenters.keys())\n",
    "    names = list(datacenters.values())\n",
    "    flexibilities = snakemake.config[\"ci\"][\"flexibility\"]\n",
    "\n",
    "    # techs for CFE hourly matching, extracted from palette\n",
    "    palette_techs = palette(tech_palette)\n",
    "\n",
    "    (\n",
    "        clean_techs,\n",
    "        storage_techs,\n",
    "        storage_charge_techs,\n",
    "        storage_discharge_techs,\n",
    "    ) = palette_techs\n",
    "\n",
    "    # renaming technologies for plotting\n",
    "    clean_chargers = [tech.replace(\" \", \"_\") for tech in storage_charge_techs]\n",
    "    clean_dischargers = [tech.replace(\" \", \"_\") for tech in storage_discharge_techs]\n",
    "\n",
    "    def tech_names(base_names, year):\n",
    "        return [f\"{name.replace(' ', '_')}-{year}\" for name in base_names]\n",
    "\n",
    "    # expected technology names with year\n",
    "    exp_generators = tech_names([\"offwind-ac\", \"offwind-dc\", \"onwind\", \"solar\"], year)\n",
    "    exp_links = tech_names([\"OCGT\"], year)\n",
    "    exp_chargers = tech_names([\"battery charger\", \"H2 Electrolysis\"], year)\n",
    "    exp_dischargers = tech_names([\"battery discharger\", \"H2 Fuel Cell\"], year)\n",
    "\n",
    "    # Assign colors\n",
    "    tech_colors = snakemake.config[\"tech_colors\"]\n",
    "\n",
    "    # Rename mappings\n",
    "    rename_ci_cost = pd.Series(\n",
    "        {\n",
    "            \"onwind\": \"onshore wind\",\n",
    "            \"solar\": \"solar\",\n",
    "            \"grid\": \"grid imports\",\n",
    "            \"revenue\": \"revenue\",\n",
    "            \"battery_storage\": \"battery\",\n",
    "            \"battery_inverter\": \"battery\",\n",
    "            \"battery_discharger\": \"battery\",\n",
    "            \"hydrogen_storage\": \"hydrogen storage\",\n",
    "            \"hydrogen_electrolysis\": \"hydrogen storage\",\n",
    "            \"hydrogen_fuel_cell\": \"hydrogen storage\",\n",
    "            \"adv_geothermal\": \"advanced dispatchable\",\n",
    "            \"allam_ccs\": \"NG-Allam\",\n",
    "        }\n",
    "    )\n",
    "\n",
    "    rename_ci_capacity = pd.Series(\n",
    "        {\n",
    "            \"onwind\": \"onshore wind\",\n",
    "            \"solar\": \"solar\",\n",
    "            \"battery_discharger\": \"battery\",\n",
    "            \"H2_Fuel_Cell\": \"hydrogen fuel cell\",\n",
    "            \"H2_Electrolysis\": \"hydrogen electrolysis\",\n",
    "            \"adv_geothermal\": \"advanced dispatchable\",\n",
    "            \"allam_ccs\": \"NG-Allam\",\n",
    "        }\n",
    "    )\n",
    "\n",
    "    rename_scen = {\n",
    "        \"0\": \"0%\",\n",
    "        \"5\": \"05%\",\n",
    "        \"10\": \"10%\",\n",
    "        \"15\": \"15%\",\n",
    "        \"20\": \"20%\",\n",
    "        \"25\": \"25%\",\n",
    "    }\n",
    "\n",
    "    preferred_order = pd.Index(\n",
    "        [\n",
    "            \"advanced dispatchable\",\n",
    "            \"NG-Allam\",\n",
    "            \"Gas OC\",\n",
    "            \"offshore wind\",\n",
    "            \"onshore wind\",\n",
    "            \"solar\",\n",
    "            \"battery\",\n",
    "            \"hydrogen storage\",\n",
    "            \"hydrogen electrolysis\",\n",
    "            \"hydrogen fuel cell\",\n",
    "        ]\n",
    "    )"
   ]
  },
  {
   "cell_type": "markdown",
   "metadata": {},
   "source": [
    "## Data Preparation"
   ]
  },
  {
   "cell_type": "code",
   "execution_count": null,
   "metadata": {},
   "outputs": [],
   "source": [
    "df = pd.read_csv(snakemake.input.summary, index_col=0, header=[0, 1])"
   ]
  },
  {
   "cell_type": "code",
   "execution_count": null,
   "metadata": {},
   "outputs": [],
   "source": [
    "ldf = pd.concat(\n",
    "    [\n",
    "        df.loc[[\"ci_cap_\" + t.replace(\" \", \"_\") for t in clean_techs]].rename(\n",
    "            {\"ci_cap_\" + t: t for t in clean_techs}\n",
    "        ),\n",
    "        df.loc[[\"ci_cap_\" + t.replace(\" \", \"_\") for t in clean_dischargers]].rename(\n",
    "            {\"ci_cap_\" + t: t for t in clean_dischargers}\n",
    "        ),\n",
    "        df.loc[[\"ci_cap_\" + t.replace(\" \", \"_\") for t in clean_chargers]]\n",
    "        .rename({\"ci_cap_\" + t: t for t in clean_chargers})\n",
    "        .drop([\"battery_charger\"]),\n",
    "    ]\n",
    ")\n",
    "\n",
    "# Drop rows with all values less than 0.1\n",
    "to_drop = ldf.index[(ldf < 0.1).all(axis=1)]\n",
    "ldf.drop(to_drop, inplace=True)\n",
    "\n",
    "# Rename columns and indices\n",
    "ldf.rename(columns=rename_scen, level=0, inplace=True)\n",
    "ldf.rename(index=rename_ci_capacity, level=0, inplace=True)\n",
    "\n",
    "# Reorder and sort the final DataFrame\n",
    "new_index = preferred_order.intersection(ldf.index).append(\n",
    "    ldf.index.difference(preferred_order)\n",
    ")\n",
    "ldf = ldf.loc[new_index].sort_index(\n",
    "    axis=\"columns\", level=[1, 0], ascending=[False, True]\n",
    ")"
   ]
  },
  {
   "cell_type": "code",
   "execution_count": null,
   "metadata": {},
   "outputs": [],
   "source": [
    "ldf"
   ]
  },
  {
   "cell_type": "code",
   "execution_count": null,
   "metadata": {},
   "outputs": [],
   "source": [
    "E = ldf.xs(\"NG-Allam\").xs(\"IE5 0\", level=1)\n",
    "type(E)\n",
    "E"
   ]
  },
  {
   "cell_type": "markdown",
   "metadata": {},
   "source": [
    "# Learning curve"
   ]
  },
  {
   "cell_type": "code",
   "execution_count": null,
   "metadata": {},
   "outputs": [],
   "source": [
    "def experience_curve(E, C0, E0, LR):\n",
    "    \"\"\"\n",
    "    Calculate the investment cost c as a function of experience E.\n",
    "\n",
    "    Parameters (all float):\n",
    "    E: Invested capacity (updated experience) in MW.\n",
    "    C0: The initial investment costs when experience E is E0 in EUR/kW.\n",
    "    E0: Initial capacity (initial experience) in MW.\n",
    "    LR: The learning rate, i.e., the percentage cost reduction for each doubling of cumulative experience.\n",
    "\n",
    "    Returns (also float):\n",
    "    alpha: The experience exponent\n",
    "    c(E): The investment cost c for the given capacity (E + E0).\n",
    "    \"\"\"\n",
    "\n",
    "    alpha = np.log2(1 / (1 - LR))\n",
    "\n",
    "    c = C0 * ((E + E0) / E0) ** (-alpha)\n",
    "\n",
    "    return round(alpha, 3), c"
   ]
  },
  {
   "cell_type": "code",
   "execution_count": null,
   "metadata": {},
   "outputs": [],
   "source": [
    "C0 = 2500  # EUR/kW\n",
    "E0 = 500  # MW\n",
    "LR = 0.2  # 20%"
   ]
  },
  {
   "cell_type": "markdown",
   "metadata": {},
   "source": [
    "### (sketch) Results for CFE score = 100% and C&I consumers in Ireland "
   ]
  },
  {
   "cell_type": "code",
   "execution_count": null,
   "metadata": {},
   "outputs": [],
   "source": [
    "E"
   ]
  },
  {
   "cell_type": "code",
   "execution_count": null,
   "metadata": {},
   "outputs": [],
   "source": [
    "experience_curve(E, C0=2500, E0=500, LR=0.2)"
   ]
  },
  {
   "cell_type": "code",
   "execution_count": null,
   "metadata": {},
   "outputs": [],
   "source": [
    "experience_curve(E, C0=2500, E0=1000, LR=0.2)"
   ]
  },
  {
   "cell_type": "code",
   "execution_count": null,
   "metadata": {},
   "outputs": [],
   "source": [
    "experience_curve(E, C0=2500, E0=1000, LR=0.1)"
   ]
  },
  {
   "cell_type": "markdown",
   "metadata": {},
   "source": [
    "### (sketch) Results for CFE score = 100% and C&I consumers in Germany "
   ]
  },
  {
   "cell_type": "code",
   "execution_count": null,
   "metadata": {},
   "outputs": [],
   "source": [
    "E_germany = E * 38410 / 2200\n",
    "E_germany"
   ]
  },
  {
   "cell_type": "code",
   "execution_count": null,
   "metadata": {},
   "outputs": [],
   "source": [
    "experience_curve(E=E_germany, C0=2500, E0=500, LR=0.2)"
   ]
  },
  {
   "cell_type": "code",
   "execution_count": null,
   "metadata": {},
   "outputs": [],
   "source": [
    "experience_curve(E=E_germany, C0=2500, E0=1000, LR=0.2)"
   ]
  },
  {
   "cell_type": "code",
   "execution_count": null,
   "metadata": {},
   "outputs": [],
   "source": [
    "experience_curve(E=E_germany, C0=2500, E0=1000, LR=0.1)"
   ]
  },
  {
   "cell_type": "code",
   "execution_count": null,
   "metadata": {},
   "outputs": [],
   "source": [
    "# to get CCGT parity\n",
    "experience_curve(E=2e4, C0=2500, E0=500, LR=0.2)"
   ]
  },
  {
   "cell_type": "markdown",
   "metadata": {},
   "source": [
    "### Add experience exponent standard error\n"
   ]
  },
  {
   "cell_type": "code",
   "execution_count": null,
   "metadata": {},
   "outputs": [],
   "source": [
    "def experience_curve(E, C0, E0, LR, exp_error):\n",
    "    \"\"\"\n",
    "    Calculate the investment cost c as a function of experience E.\n",
    "\n",
    "    Parameters (all float):\n",
    "    E: Invested capacity (updated experience) in MW.\n",
    "    C0: The initial investment costs when experience E is E0 in EUR/kW.\n",
    "    E0: Initial capacity (initial experience) in MW.\n",
    "    LR: The learning rate, i.e., the percentage cost reduction for each doubling of cumulative experience.\n",
    "    exp_error: The error in the experience exponent.\n",
    "\n",
    "    Returns (also float):\n",
    "    alpha: The experience exponent\n",
    "    c(E): The investment cost c for the given capacity (E + E0).\n",
    "    \"\"\"\n",
    "\n",
    "    alpha = np.log2(1 / (1 - LR))\n",
    "\n",
    "    # Define the function to calculate costs, to avoid repetition\n",
    "    def calculate_costs(alpha):\n",
    "        return C0 * ((E + E0) / E0) ** (-alpha)\n",
    "\n",
    "    # Calculate the central, lower, and upper costs\n",
    "    c_ct = calculate_costs(alpha)\n",
    "    c_lo = calculate_costs(alpha + exp_error)\n",
    "    c_up = calculate_costs(alpha - exp_error)\n",
    "\n",
    "    df = pd.DataFrame({\"E\": E, \"C\": c_ct, \"C-upper\": c_up, \"C-lower\": c_lo})\n",
    "\n",
    "    # df.set_index('E', inplace=True)\n",
    "\n",
    "    return df"
   ]
  },
  {
   "cell_type": "code",
   "execution_count": null,
   "metadata": {},
   "outputs": [],
   "source": [
    "experience_curve(E, C0=2500, E0=500, LR=0.2, exp_error=0.1).to_dict()"
   ]
  },
  {
   "cell_type": "code",
   "execution_count": null,
   "metadata": {},
   "outputs": [],
   "source": [
    "experience_curve(E, C0=2500, E0=500, LR=0.2, exp_error=0.01)"
   ]
  },
  {
   "cell_type": "code",
   "execution_count": null,
   "metadata": {},
   "outputs": [],
   "source": [
    "def plot_experience_curve(df):\n",
    "    \"\"\"\n",
    "    Plots the experience curve with uncertainty range.\n",
    "    \"\"\"\n",
    "    sns.set(style=\"darkgrid\")\n",
    "\n",
    "    plt.figure(figsize=(10, 6))\n",
    "    plt.plot(df[\"E\"], df[\"C\"], label=\"Central Cost\", color=\"blue\")\n",
    "    plt.fill_between(\n",
    "        df[\"E\"],\n",
    "        df[\"C-lower\"],\n",
    "        df[\"C-upper\"],\n",
    "        color=\"gray\",\n",
    "        alpha=0.3,\n",
    "        label=\"Uncertainty Range\",\n",
    "    )\n",
    "\n",
    "    plt.ylim(bottom=0)\n",
    "    plt.xlim(left=0)\n",
    "    plt.xlabel(\"Experience (MW)\")\n",
    "    plt.ylabel(\"Cost (EUR/kW)\")\n",
    "    plt.title(\"Experience Curve\")\n",
    "    plt.legend()\n",
    "\n",
    "    # plt.grid(True, alpha=0.3)\n",
    "\n",
    "    plt.show()"
   ]
  },
  {
   "cell_type": "code",
   "execution_count": null,
   "metadata": {},
   "outputs": [],
   "source": [
    "E"
   ]
  },
  {
   "cell_type": "code",
   "execution_count": null,
   "metadata": {},
   "outputs": [],
   "source": [
    "experience_curve(E, C0=2500, E0=500, LR=0.2, exp_error=0.2)"
   ]
  },
  {
   "cell_type": "code",
   "execution_count": null,
   "metadata": {},
   "outputs": [],
   "source": [
    "plot_experience_curve(df=experience_curve(E, C0=2500, E0=200, LR=0.2, exp_error=0.2))"
   ]
  },
  {
   "cell_type": "markdown",
   "metadata": {},
   "source": [
    "## Add monte carlo simulation"
   ]
  },
  {
   "cell_type": "code",
   "execution_count": null,
   "metadata": {},
   "outputs": [],
   "source": [
    "def monte_carlo_experience_curve(\n",
    "    E, C0_mean, C0_std, E0_left, E0_right, LR, exp_error, num_simulations=100\n",
    "):\n",
    "    \"\"\"\n",
    "    Perform Monte Carlo simulation on the experience curve calculation.\n",
    "\n",
    "    Parameters:\n",
    "    - E: Invested capacity (updated experience) in MW.\n",
    "    - C0_mean: The mean of the initial investment costs distribution.\n",
    "    - C0_std: The standard deviation of the initial investment costs distribution.\n",
    "    - E0: Initial capacity (initial experience) in MW.\n",
    "    - LR: The learning rate.\n",
    "    - exp_error: The error in the experience exponent.\n",
    "    - num_simulations: Number of Monte Carlo simulations to run.\n",
    "\n",
    "    Returns:\n",
    "    - Aggregated results of the simulations.\n",
    "    \"\"\"\n",
    "\n",
    "    C0_samples = np.random.normal(loc=C0_mean, scale=C0_std, size=num_simulations)\n",
    "    E0_samples = np.random.uniform(low=E0_left, high=E0_right, size=num_simulations)\n",
    "\n",
    "    all_results = []\n",
    "    for i in range(num_simulations):\n",
    "        df = experience_curve(E, C0_samples[i], E0_samples[i], LR, exp_error)\n",
    "        df_melted = df.reset_index().melt(\n",
    "            id_vars=[\"E\"],\n",
    "            value_vars=[\"C\", \"C-upper\", \"C-lower\"],\n",
    "            var_name=\"Scenario\",\n",
    "            value_name=\"Costs\",\n",
    "        )\n",
    "        all_results.append(df_melted)\n",
    "\n",
    "    aggregate_df = pd.concat(all_results)\n",
    "\n",
    "    return aggregate_df\n",
    "\n",
    "\n",
    "# df = monte_carlo_experience_curve(E, C0_mean=2500, C0_std=1, E0=200, LR=0.2, exp_error=0.2, num_simulations=100)\n",
    "# df.loc[(df[\"Scenario\"] == \"C\") & (df[\"E\"] == 0)].Costs.mean()\n",
    "# df"
   ]
  },
  {
   "cell_type": "code",
   "execution_count": null,
   "metadata": {},
   "outputs": [],
   "source": [
    "def plot_experience_curve_mc(aggregate_df, E, **kwargs):\n",
    "    sns.set(style=\"darkgrid\")\n",
    "\n",
    "    # Create a figure with two subplots\n",
    "    fig, axs = plt.subplots(\n",
    "        1,\n",
    "        2,\n",
    "        figsize=(15, 6),\n",
    "        gridspec_kw={\"width_ratios\": [2, 1], \"wspace\": 0.05},\n",
    "        sharey=True,\n",
    "    )\n",
    "\n",
    "    # Unique 'E' values\n",
    "    unique_E = aggregate_df[\"E\"].unique()\n",
    "\n",
    "    # Extract and plot data for the central cost scenario\n",
    "    central_costs = (\n",
    "        aggregate_df[aggregate_df[\"Scenario\"] == \"C\"].groupby(\"E\")[\"Costs\"].mean()\n",
    "    )\n",
    "    axs[0].plot(unique_E, central_costs, label=\"Central Cost\", color=\"blue\")\n",
    "\n",
    "    # Extract and plot data for the lower and upper bounds\n",
    "    lower_costs = (\n",
    "        aggregate_df[aggregate_df[\"Scenario\"] == \"C-lower\"].groupby(\"E\")[\"Costs\"].mean()\n",
    "    )\n",
    "    upper_costs = (\n",
    "        aggregate_df[aggregate_df[\"Scenario\"] == \"C-upper\"].groupby(\"E\")[\"Costs\"].mean()\n",
    "    )\n",
    "    axs[0].fill_between(\n",
    "        unique_E,\n",
    "        lower_costs,\n",
    "        upper_costs,\n",
    "        color=\"gray\",\n",
    "        alpha=0.3,\n",
    "        label=\"Uncertainty Range\",\n",
    "    )\n",
    "\n",
    "    # Filter the DataFrame for the maximum 'E' value\n",
    "    max_E = aggregate_df[\"E\"].max()\n",
    "    filtered_df = aggregate_df[aggregate_df[\"E\"] == max_E]\n",
    "\n",
    "    axs[0].set_xlim(left=0)\n",
    "    axs[0].set_ylim(bottom=0)\n",
    "    axs[0].set_xlabel(\"Experience (MW)\")\n",
    "    axs[0].set_ylabel(\"Cost (EUR/kW)\")\n",
    "    axs[0].set_title(\"Experience Curve\")\n",
    "    axs[0].legend()\n",
    "\n",
    "    sns.violinplot(\n",
    "        x=\"Scenario\", y=\"Costs\", data=filtered_df, ax=axs[1], inner=\"quartile\"\n",
    "    )\n",
    "    axs[1].set_title(\"Monte Carlo simulation\")\n",
    "    axs[1].set_xlabel(\"Cost scenario\")\n",
    "    axs[1].set_ylabel(\"\")\n",
    "\n",
    "    # Construct the params_text string from kwargs and include E with units\n",
    "    params_text = \"\\n\".join(\n",
    "        [\n",
    "            f\"E (MW):    [{int(E.min())}, .., {int(E.max())}]\",\n",
    "            f\"C0 (EUR/kW):     {kwargs.get('C0_mean', 'N/A'):>6}\",\n",
    "            f\"C0_std (EUR/kW): {kwargs.get('C0_std', 'N/A'):>6}\",\n",
    "            f\"E0_left (MW):    {kwargs.get('E0_left', 'N/A'):>6}\",\n",
    "            f\"E0_right (MW):   {kwargs.get('E0_right', 'N/A'):>6}\",\n",
    "            f\"LR (% points):   {kwargs.get('LR', 'N/A') * 100:>6.2f}\",\n",
    "            f\"exp_error:       ±{kwargs.get('exp_error', 'N/A'):>5}\",\n",
    "            f\"num_samples:     {kwargs.get('num_simulations', 'N/A'):>6}\",\n",
    "        ]\n",
    "    )\n",
    "\n",
    "    # Place the text box above the plots, adjusting the y-coordinate as needed\n",
    "    plt.figtext(\n",
    "        0.23,\n",
    "        0.4,\n",
    "        params_text,\n",
    "        ha=\"center\",\n",
    "        va=\"top\",\n",
    "        fontsize=11,\n",
    "        family=\"monospace\",\n",
    "        bbox=dict(boxstyle=\"round,pad=0.5\", edgecolor=\"black\", facecolor=\"white\"),\n",
    "    )\n",
    "\n",
    "    plt.show()"
   ]
  },
  {
   "cell_type": "code",
   "execution_count": null,
   "metadata": {},
   "outputs": [],
   "source": [
    "learning_params = {\n",
    "    \"C0_mean\": 2500,\n",
    "    \"C0_std\": 100,\n",
    "    \"E0_left\": 200,\n",
    "    \"E0_right\": 400,\n",
    "    \"LR\": 0.2,\n",
    "    \"exp_error\": 0.15,\n",
    "    \"num_simulations\": 1000,\n",
    "}\n",
    "\n",
    "plot_experience_curve_mc(\n",
    "    aggregate_df=monte_carlo_experience_curve(E * 10, **learning_params),\n",
    "    E=E * 10,\n",
    "    **learning_params\n",
    ")"
   ]
  },
  {
   "cell_type": "code",
   "execution_count": null,
   "metadata": {},
   "outputs": [],
   "source": []
  }
 ],
 "metadata": {
  "kernelspec": {
   "display_name": "",
   "language": "python",
   "name": ""
  },
  "language_info": {
   "codemirror_mode": {
    "name": "ipython",
    "version": 3
   },
   "file_extension": ".py",
   "mimetype": "text/x-python",
   "name": "python",
   "nbconvert_exporter": "python",
   "pygments_lexer": "ipython3",
   "version": "3.11.0"
  }
 },
 "nbformat": 4,
 "nbformat_minor": 2
}
