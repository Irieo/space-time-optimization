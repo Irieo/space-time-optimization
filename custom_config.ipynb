{
 "cells": [
  {
   "cell_type": "code",
   "execution_count": 3,
   "metadata": {},
   "outputs": [],
   "source": [
    "import itertools\n",
    "import yaml"
   ]
  },
  {
   "cell_type": "code",
   "execution_count": 1,
   "metadata": {},
   "outputs": [],
   "source": [
    "datacenters = {\n",
    "    \"DK1 0\": \"Denmark\",\n",
    "    \"IE5 0\": \"Ireland\",\n",
    "    \"NL1 0\": \"Netherlands\",\n",
    "    \"DE1 0\": \"Germany\",\n",
    "    \"LV6 0\": \"Latvia\",\n",
    "    \"GR1 0\": \"Greece\",\n",
    "    \"PT1 0\": \"Portugal\",\n",
    "    \"FR1 0\": \"France\",\n",
    "}"
   ]
  },
  {
   "cell_type": "code",
   "execution_count": 6,
   "metadata": {},
   "outputs": [
    {
     "data": {
      "text/plain": [
       "[('DK1 0', 'IE5 0', 'NL1 0'),\n",
       " ('DK1 0', 'IE5 0', 'DE1 0'),\n",
       " ('DK1 0', 'IE5 0', 'LV6 0'),\n",
       " ('DK1 0', 'IE5 0', 'GR1 0'),\n",
       " ('DK1 0', 'IE5 0', 'PT1 0'),\n",
       " ('DK1 0', 'IE5 0', 'FR1 0'),\n",
       " ('DK1 0', 'NL1 0', 'DE1 0'),\n",
       " ('DK1 0', 'NL1 0', 'LV6 0'),\n",
       " ('DK1 0', 'NL1 0', 'GR1 0'),\n",
       " ('DK1 0', 'NL1 0', 'PT1 0'),\n",
       " ('DK1 0', 'NL1 0', 'FR1 0'),\n",
       " ('DK1 0', 'DE1 0', 'LV6 0'),\n",
       " ('DK1 0', 'DE1 0', 'GR1 0'),\n",
       " ('DK1 0', 'DE1 0', 'PT1 0'),\n",
       " ('DK1 0', 'DE1 0', 'FR1 0'),\n",
       " ('DK1 0', 'LV6 0', 'GR1 0'),\n",
       " ('DK1 0', 'LV6 0', 'PT1 0'),\n",
       " ('DK1 0', 'LV6 0', 'FR1 0'),\n",
       " ('DK1 0', 'GR1 0', 'PT1 0'),\n",
       " ('DK1 0', 'GR1 0', 'FR1 0'),\n",
       " ('DK1 0', 'PT1 0', 'FR1 0'),\n",
       " ('IE5 0', 'NL1 0', 'DE1 0'),\n",
       " ('IE5 0', 'NL1 0', 'LV6 0'),\n",
       " ('IE5 0', 'NL1 0', 'GR1 0'),\n",
       " ('IE5 0', 'NL1 0', 'PT1 0'),\n",
       " ('IE5 0', 'NL1 0', 'FR1 0'),\n",
       " ('IE5 0', 'DE1 0', 'LV6 0'),\n",
       " ('IE5 0', 'DE1 0', 'GR1 0'),\n",
       " ('IE5 0', 'DE1 0', 'PT1 0'),\n",
       " ('IE5 0', 'DE1 0', 'FR1 0'),\n",
       " ('IE5 0', 'LV6 0', 'GR1 0'),\n",
       " ('IE5 0', 'LV6 0', 'PT1 0'),\n",
       " ('IE5 0', 'LV6 0', 'FR1 0'),\n",
       " ('IE5 0', 'GR1 0', 'PT1 0'),\n",
       " ('IE5 0', 'GR1 0', 'FR1 0'),\n",
       " ('IE5 0', 'PT1 0', 'FR1 0'),\n",
       " ('NL1 0', 'DE1 0', 'LV6 0'),\n",
       " ('NL1 0', 'DE1 0', 'GR1 0'),\n",
       " ('NL1 0', 'DE1 0', 'PT1 0'),\n",
       " ('NL1 0', 'DE1 0', 'FR1 0'),\n",
       " ('NL1 0', 'LV6 0', 'GR1 0'),\n",
       " ('NL1 0', 'LV6 0', 'PT1 0'),\n",
       " ('NL1 0', 'LV6 0', 'FR1 0'),\n",
       " ('NL1 0', 'GR1 0', 'PT1 0'),\n",
       " ('NL1 0', 'GR1 0', 'FR1 0'),\n",
       " ('NL1 0', 'PT1 0', 'FR1 0'),\n",
       " ('DE1 0', 'LV6 0', 'GR1 0'),\n",
       " ('DE1 0', 'LV6 0', 'PT1 0'),\n",
       " ('DE1 0', 'LV6 0', 'FR1 0'),\n",
       " ('DE1 0', 'GR1 0', 'PT1 0'),\n",
       " ('DE1 0', 'GR1 0', 'FR1 0'),\n",
       " ('DE1 0', 'PT1 0', 'FR1 0'),\n",
       " ('LV6 0', 'GR1 0', 'PT1 0'),\n",
       " ('LV6 0', 'GR1 0', 'FR1 0'),\n",
       " ('LV6 0', 'PT1 0', 'FR1 0'),\n",
       " ('GR1 0', 'PT1 0', 'FR1 0')]"
      ]
     },
     "execution_count": 6,
     "metadata": {},
     "output_type": "execute_result"
    }
   ],
   "source": [
    "combinations = itertools.combinations(datacenters.keys(), 3)\n",
    "list(combinations)"
   ]
  },
  {
   "cell_type": "code",
   "execution_count": 7,
   "metadata": {},
   "outputs": [
    {
     "name": "stdout",
     "output_type": "stream",
     "text": [
      "YAML output written to custom_config.yaml\n",
      "Generated 56 combinations\n"
     ]
    }
   ],
   "source": [
    "def generate_combinations(datacenters, filename=\"output.yaml\"):\n",
    "    # Generate all unique combinations of three datacenters from my datacenters dictionary\n",
    "    combinations = itertools.combinations(datacenters.keys(), 3)\n",
    "\n",
    "    output = {\"scenario\": {\"distance\": []}, \"ci\": {}}\n",
    "\n",
    "    for combo in combinations:\n",
    "        # ID the combination\n",
    "        identifier = \"\".join([dc[:2] for dc in sorted(combo)])\n",
    "\n",
    "        # place ID to the scenario distances as a string\n",
    "        output[\"scenario\"][\"distance\"].append(identifier)\n",
    "\n",
    "        # Format the datacenters as a dictionary of strings\n",
    "        datacenters_dict = {dc: datacenters[dc] for dc in combo}\n",
    "\n",
    "        # Add the formatted datacenters to the ci section under the identifier\n",
    "        output[\"ci\"][identifier] = {\"datacenters\": datacenters_dict}\n",
    "\n",
    "    # Convert to YAML everything\n",
    "    yaml_output = yaml.dump(output, sort_keys=False, default_flow_style=False)\n",
    "\n",
    "    with open(filename, \"w\") as file:\n",
    "        file.write(yaml_output)\n",
    "\n",
    "    print(f\"YAML output written to {filename}\")\n",
    "\n",
    "    # print how many combinations were generated\n",
    "    print(f\"Generated {len(output['scenario']['distance'])} combinations\")\n",
    "\n",
    "\n",
    "generate_combinations(datacenters, \"custom_config.yaml\")"
   ]
  }
 ],
 "metadata": {
  "kernelspec": {
   "display_name": "pypsa",
   "language": "python",
   "name": "python3"
  },
  "language_info": {
   "codemirror_mode": {
    "name": "ipython",
    "version": 3
   },
   "file_extension": ".py",
   "mimetype": "text/x-python",
   "name": "python",
   "nbconvert_exporter": "python",
   "pygments_lexer": "ipython3",
   "version": "3.11.6"
  }
 },
 "nbformat": 4,
 "nbformat_minor": 2
}
